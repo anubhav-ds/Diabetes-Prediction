{
 "cells": [
  {
   "cell_type": "markdown",
   "id": "aa5d5fd6",
   "metadata": {},
   "source": [
    "# Diabetes Prediction"
   ]
  },
  {
   "attachments": {},
   "cell_type": "markdown",
   "id": "5a619f59",
   "metadata": {},
   "source": [
    "Various Health Care professionals are interesting in predicting diabetes for the patients based on their medical history and demographic information. This can be useful for healthcare professionals in identifying patients who may be at risk of developing diabetes and in developing personalized treatment plans.\n",
    "Besides Health Care professionals pharmaceutical companies are also interested in predicting the patients contacting diabetes so that they can do customer profiling.\n",
    "\n",
    "In this project we will specifically focus on predicting Diabetes on the basis of various predictors. For this we will compare Accuracy score of various models and pick the most accurate model."
   ]
  },
  {
   "attachments": {},
   "cell_type": "markdown",
   "id": "95b9bb1a",
   "metadata": {},
   "source": [
    "The Diabetes prediction dataset is a collection of medical and demographic data from patients, along with their diabetes status (positive or negative). The data includes features such as age, gender, body mass index (BMI), hypertension, heart disease, smoking history, HbA1c level, and blood glucose level.\n",
    "\n",
    "The full data set can be seen at the following page: https://www.kaggle.com/datasets/iammustafatz/diabetes-prediction-dataset"
   ]
  },
  {
   "cell_type": "markdown",
   "id": "1c93a7ef",
   "metadata": {},
   "source": [
    "## Assignment has been broken into 4 Parts\n",
    "1. Data Cleaning\n",
    "2. EDA\n",
    "3. Supervised Learning\n",
    "4. Model Result Comparison and Summary"
   ]
  },
  {
   "cell_type": "code",
   "execution_count": 1,
   "id": "6ccc56f1",
   "metadata": {},
   "outputs": [],
   "source": [
    "import scipy as sp\n",
    "import scipy.stats as stats\n",
    "import pandas as pd\n",
    "import numpy as np\n",
    "import matplotlib.pyplot as plt\n",
    "import seaborn as sns\n",
    "import sklearn\n",
    "import sklearn.model_selection\n",
    "from sklearn.metrics import f1_score"
   ]
  },
  {
   "cell_type": "markdown",
   "id": "909b42f5",
   "metadata": {},
   "source": [
    "## Data Cleaning"
   ]
  },
  {
   "cell_type": "markdown",
   "id": "eb9da257",
   "metadata": {},
   "source": [
    "Data Cleaning step is very important as most of the further operations can only be done on Tidy data. In this Part we will analyse the Data Types, correct them if needed, and find the None values.\n",
    "\n",
    "For the Null Values, if a Predictor has less than 5% Observation values as Null we will impute the values with the Mean, Median, or Mode, as necessary. And for the Predictors having more null values, we will remove them after careful consideration. (In such cases if we have high amount of null value but still want to use that Predictor it will be better to go back to Data Cleaning Step)\n"
   ]
  },
  {
   "cell_type": "code",
   "execution_count": 2,
   "id": "8ca6354d",
   "metadata": {},
   "outputs": [],
   "source": [
    "df = pd.read_csv('diabetes_prediction_dataset.csv')"
   ]
  },
  {
   "cell_type": "code",
   "execution_count": 3,
   "id": "bed0f8f4",
   "metadata": {},
   "outputs": [
    {
     "data": {
      "text/html": [
       "<div>\n",
       "<style scoped>\n",
       "    .dataframe tbody tr th:only-of-type {\n",
       "        vertical-align: middle;\n",
       "    }\n",
       "\n",
       "    .dataframe tbody tr th {\n",
       "        vertical-align: top;\n",
       "    }\n",
       "\n",
       "    .dataframe thead th {\n",
       "        text-align: right;\n",
       "    }\n",
       "</style>\n",
       "<table border=\"1\" class=\"dataframe\">\n",
       "  <thead>\n",
       "    <tr style=\"text-align: right;\">\n",
       "      <th></th>\n",
       "      <th>gender</th>\n",
       "      <th>age</th>\n",
       "      <th>hypertension</th>\n",
       "      <th>heart_disease</th>\n",
       "      <th>smoking_history</th>\n",
       "      <th>bmi</th>\n",
       "      <th>HbA1c_level</th>\n",
       "      <th>blood_glucose_level</th>\n",
       "      <th>diabetes</th>\n",
       "    </tr>\n",
       "  </thead>\n",
       "  <tbody>\n",
       "    <tr>\n",
       "      <th>0</th>\n",
       "      <td>Female</td>\n",
       "      <td>80.0</td>\n",
       "      <td>0</td>\n",
       "      <td>1</td>\n",
       "      <td>never</td>\n",
       "      <td>25.19</td>\n",
       "      <td>6.6</td>\n",
       "      <td>140</td>\n",
       "      <td>0</td>\n",
       "    </tr>\n",
       "    <tr>\n",
       "      <th>1</th>\n",
       "      <td>Female</td>\n",
       "      <td>54.0</td>\n",
       "      <td>0</td>\n",
       "      <td>0</td>\n",
       "      <td>No Info</td>\n",
       "      <td>27.32</td>\n",
       "      <td>6.6</td>\n",
       "      <td>80</td>\n",
       "      <td>0</td>\n",
       "    </tr>\n",
       "    <tr>\n",
       "      <th>2</th>\n",
       "      <td>Male</td>\n",
       "      <td>28.0</td>\n",
       "      <td>0</td>\n",
       "      <td>0</td>\n",
       "      <td>never</td>\n",
       "      <td>27.32</td>\n",
       "      <td>5.7</td>\n",
       "      <td>158</td>\n",
       "      <td>0</td>\n",
       "    </tr>\n",
       "    <tr>\n",
       "      <th>3</th>\n",
       "      <td>Female</td>\n",
       "      <td>36.0</td>\n",
       "      <td>0</td>\n",
       "      <td>0</td>\n",
       "      <td>current</td>\n",
       "      <td>23.45</td>\n",
       "      <td>5.0</td>\n",
       "      <td>155</td>\n",
       "      <td>0</td>\n",
       "    </tr>\n",
       "    <tr>\n",
       "      <th>4</th>\n",
       "      <td>Male</td>\n",
       "      <td>76.0</td>\n",
       "      <td>1</td>\n",
       "      <td>1</td>\n",
       "      <td>current</td>\n",
       "      <td>20.14</td>\n",
       "      <td>4.8</td>\n",
       "      <td>155</td>\n",
       "      <td>0</td>\n",
       "    </tr>\n",
       "  </tbody>\n",
       "</table>\n",
       "</div>"
      ],
      "text/plain": [
       "   gender   age  hypertension  heart_disease smoking_history    bmi  \\\n",
       "0  Female  80.0             0              1           never  25.19   \n",
       "1  Female  54.0             0              0         No Info  27.32   \n",
       "2    Male  28.0             0              0           never  27.32   \n",
       "3  Female  36.0             0              0         current  23.45   \n",
       "4    Male  76.0             1              1         current  20.14   \n",
       "\n",
       "   HbA1c_level  blood_glucose_level  diabetes  \n",
       "0          6.6                  140         0  \n",
       "1          6.6                   80         0  \n",
       "2          5.7                  158         0  \n",
       "3          5.0                  155         0  \n",
       "4          4.8                  155         0  "
      ]
     },
     "execution_count": 3,
     "metadata": {},
     "output_type": "execute_result"
    }
   ],
   "source": [
    "df.head()"
   ]
  },
  {
   "cell_type": "code",
   "execution_count": 4,
   "id": "48c582b5",
   "metadata": {},
   "outputs": [
    {
     "data": {
      "text/plain": [
       "(100000, 9)"
      ]
     },
     "execution_count": 4,
     "metadata": {},
     "output_type": "execute_result"
    }
   ],
   "source": [
    "df.shape"
   ]
  },
  {
   "cell_type": "code",
   "execution_count": 5,
   "id": "a7201e71",
   "metadata": {},
   "outputs": [
    {
     "data": {
      "text/plain": [
       "gender                  object\n",
       "age                    float64\n",
       "hypertension             int64\n",
       "heart_disease            int64\n",
       "smoking_history         object\n",
       "bmi                    float64\n",
       "HbA1c_level            float64\n",
       "blood_glucose_level      int64\n",
       "diabetes                 int64\n",
       "dtype: object"
      ]
     },
     "execution_count": 5,
     "metadata": {},
     "output_type": "execute_result"
    }
   ],
   "source": [
    "df.dtypes"
   ]
  },
  {
   "cell_type": "code",
   "execution_count": 6,
   "id": "d5f6a25f",
   "metadata": {},
   "outputs": [
    {
     "data": {
      "text/plain": [
       "gender                 0\n",
       "age                    0\n",
       "hypertension           0\n",
       "heart_disease          0\n",
       "smoking_history        0\n",
       "bmi                    0\n",
       "HbA1c_level            0\n",
       "blood_glucose_level    0\n",
       "diabetes               0\n",
       "dtype: int64"
      ]
     },
     "execution_count": 6,
     "metadata": {},
     "output_type": "execute_result"
    }
   ],
   "source": [
    "df.isna().sum()"
   ]
  },
  {
   "cell_type": "markdown",
   "id": "836201e7",
   "metadata": {},
   "source": [
    "After looking at the default data type below we adjusted them so that predictors such as age and blood_glucose_level appears properly.\n",
    "\n",
    "We also preliminary checked the None values."
   ]
  },
  {
   "cell_type": "code",
   "execution_count": 4,
   "id": "90e9342a",
   "metadata": {},
   "outputs": [],
   "source": [
    "df['age'] = df['age'].astype(int)"
   ]
  },
  {
   "cell_type": "code",
   "execution_count": 5,
   "id": "68b9e836",
   "metadata": {},
   "outputs": [
    {
     "data": {
      "text/plain": [
       "No Info        35816\n",
       "never          35095\n",
       "former          9352\n",
       "current         9286\n",
       "not current     6447\n",
       "ever            4004\n",
       "Name: smoking_history, dtype: int64"
      ]
     },
     "execution_count": 5,
     "metadata": {},
     "output_type": "execute_result"
    }
   ],
   "source": [
    "df['smoking_history'].value_counts()"
   ]
  },
  {
   "cell_type": "code",
   "execution_count": 9,
   "id": "fa8a2e3b",
   "metadata": {},
   "outputs": [
    {
     "data": {
      "text/plain": [
       "Female    58552\n",
       "Male      41430\n",
       "Other        18\n",
       "Name: gender, dtype: int64"
      ]
     },
     "execution_count": 9,
     "metadata": {},
     "output_type": "execute_result"
    }
   ],
   "source": [
    "df['gender'].value_counts()"
   ]
  },
  {
   "cell_type": "markdown",
   "id": "fcf83787",
   "metadata": {},
   "source": [
    "While there does not seem to be any null value. After checking the object types, especiall the smoking_history we were able to find 35,816 rows where we have No info. \n",
    "\n",
    "While No Info also represent a dimension of information we can not impute it if more than 30% of the Observations have None value. If Health Care experts believe that it is an essential predictor, they will have to improve the collection method so that the information can be captured properly."
   ]
  },
  {
   "cell_type": "markdown",
   "id": "68dab210",
   "metadata": {},
   "source": [
    "We can indeed remove smoking history as it has high none value."
   ]
  },
  {
   "cell_type": "code",
   "execution_count": 6,
   "id": "70ece66b",
   "metadata": {},
   "outputs": [],
   "source": [
    "df = df.drop(columns = 'smoking_history')"
   ]
  },
  {
   "cell_type": "code",
   "execution_count": 7,
   "id": "1e16be02",
   "metadata": {},
   "outputs": [
    {
     "data": {
      "text/html": [
       "<div>\n",
       "<style scoped>\n",
       "    .dataframe tbody tr th:only-of-type {\n",
       "        vertical-align: middle;\n",
       "    }\n",
       "\n",
       "    .dataframe tbody tr th {\n",
       "        vertical-align: top;\n",
       "    }\n",
       "\n",
       "    .dataframe thead th {\n",
       "        text-align: right;\n",
       "    }\n",
       "</style>\n",
       "<table border=\"1\" class=\"dataframe\">\n",
       "  <thead>\n",
       "    <tr style=\"text-align: right;\">\n",
       "      <th></th>\n",
       "      <th>age</th>\n",
       "      <th>hypertension</th>\n",
       "      <th>heart_disease</th>\n",
       "      <th>bmi</th>\n",
       "      <th>HbA1c_level</th>\n",
       "      <th>blood_glucose_level</th>\n",
       "      <th>diabetes</th>\n",
       "    </tr>\n",
       "  </thead>\n",
       "  <tbody>\n",
       "    <tr>\n",
       "      <th>count</th>\n",
       "      <td>100000.000000</td>\n",
       "      <td>100000.00000</td>\n",
       "      <td>100000.000000</td>\n",
       "      <td>100000.000000</td>\n",
       "      <td>100000.000000</td>\n",
       "      <td>100000.000000</td>\n",
       "      <td>100000.000000</td>\n",
       "    </tr>\n",
       "    <tr>\n",
       "      <th>mean</th>\n",
       "      <td>41.875660</td>\n",
       "      <td>0.07485</td>\n",
       "      <td>0.039420</td>\n",
       "      <td>27.320767</td>\n",
       "      <td>5.527507</td>\n",
       "      <td>138.058060</td>\n",
       "      <td>0.085000</td>\n",
       "    </tr>\n",
       "    <tr>\n",
       "      <th>std</th>\n",
       "      <td>22.535417</td>\n",
       "      <td>0.26315</td>\n",
       "      <td>0.194593</td>\n",
       "      <td>6.636783</td>\n",
       "      <td>1.070672</td>\n",
       "      <td>40.708136</td>\n",
       "      <td>0.278883</td>\n",
       "    </tr>\n",
       "    <tr>\n",
       "      <th>min</th>\n",
       "      <td>0.000000</td>\n",
       "      <td>0.00000</td>\n",
       "      <td>0.000000</td>\n",
       "      <td>10.010000</td>\n",
       "      <td>3.500000</td>\n",
       "      <td>80.000000</td>\n",
       "      <td>0.000000</td>\n",
       "    </tr>\n",
       "    <tr>\n",
       "      <th>25%</th>\n",
       "      <td>24.000000</td>\n",
       "      <td>0.00000</td>\n",
       "      <td>0.000000</td>\n",
       "      <td>23.630000</td>\n",
       "      <td>4.800000</td>\n",
       "      <td>100.000000</td>\n",
       "      <td>0.000000</td>\n",
       "    </tr>\n",
       "    <tr>\n",
       "      <th>50%</th>\n",
       "      <td>43.000000</td>\n",
       "      <td>0.00000</td>\n",
       "      <td>0.000000</td>\n",
       "      <td>27.320000</td>\n",
       "      <td>5.800000</td>\n",
       "      <td>140.000000</td>\n",
       "      <td>0.000000</td>\n",
       "    </tr>\n",
       "    <tr>\n",
       "      <th>75%</th>\n",
       "      <td>60.000000</td>\n",
       "      <td>0.00000</td>\n",
       "      <td>0.000000</td>\n",
       "      <td>29.580000</td>\n",
       "      <td>6.200000</td>\n",
       "      <td>159.000000</td>\n",
       "      <td>0.000000</td>\n",
       "    </tr>\n",
       "    <tr>\n",
       "      <th>max</th>\n",
       "      <td>80.000000</td>\n",
       "      <td>1.00000</td>\n",
       "      <td>1.000000</td>\n",
       "      <td>95.690000</td>\n",
       "      <td>9.000000</td>\n",
       "      <td>300.000000</td>\n",
       "      <td>1.000000</td>\n",
       "    </tr>\n",
       "  </tbody>\n",
       "</table>\n",
       "</div>"
      ],
      "text/plain": [
       "                 age  hypertension  heart_disease            bmi  \\\n",
       "count  100000.000000  100000.00000  100000.000000  100000.000000   \n",
       "mean       41.875660       0.07485       0.039420      27.320767   \n",
       "std        22.535417       0.26315       0.194593       6.636783   \n",
       "min         0.000000       0.00000       0.000000      10.010000   \n",
       "25%        24.000000       0.00000       0.000000      23.630000   \n",
       "50%        43.000000       0.00000       0.000000      27.320000   \n",
       "75%        60.000000       0.00000       0.000000      29.580000   \n",
       "max        80.000000       1.00000       1.000000      95.690000   \n",
       "\n",
       "         HbA1c_level  blood_glucose_level       diabetes  \n",
       "count  100000.000000        100000.000000  100000.000000  \n",
       "mean        5.527507           138.058060       0.085000  \n",
       "std         1.070672            40.708136       0.278883  \n",
       "min         3.500000            80.000000       0.000000  \n",
       "25%         4.800000           100.000000       0.000000  \n",
       "50%         5.800000           140.000000       0.000000  \n",
       "75%         6.200000           159.000000       0.000000  \n",
       "max         9.000000           300.000000       1.000000  "
      ]
     },
     "execution_count": 7,
     "metadata": {},
     "output_type": "execute_result"
    }
   ],
   "source": [
    "df.describe()"
   ]
  },
  {
   "cell_type": "code",
   "execution_count": 8,
   "id": "884a1e73",
   "metadata": {},
   "outputs": [],
   "source": [
    "df['blood_glucose_level'] =  df['blood_glucose_level'].astype(float)"
   ]
  },
  {
   "cell_type": "code",
   "execution_count": 9,
   "id": "94b61533",
   "metadata": {
    "scrolled": true
   },
   "outputs": [
    {
     "data": {
      "text/plain": [
       "gender                  object\n",
       "age                      int32\n",
       "hypertension             int64\n",
       "heart_disease            int64\n",
       "bmi                    float64\n",
       "HbA1c_level            float64\n",
       "blood_glucose_level    float64\n",
       "diabetes                 int64\n",
       "dtype: object"
      ]
     },
     "execution_count": 9,
     "metadata": {},
     "output_type": "execute_result"
    }
   ],
   "source": [
    "df.dtypes"
   ]
  },
  {
   "cell_type": "markdown",
   "id": "b8c64824",
   "metadata": {},
   "source": [
    "We are finished with Data Cleaning process for the Diabetes Prediction Dataset. Blow are the final columns and their data types.\n",
    "Age is a discrete variable here, hence we converted it into int type and blood_glucose_level is a continuous variable, and thus it was converted into float.\n"
   ]
  },
  {
   "attachments": {},
   "cell_type": "markdown",
   "id": "4057c1e5",
   "metadata": {},
   "source": [
    "## Exploratory Data Analysis(EDA)"
   ]
  },
  {
   "cell_type": "markdown",
   "id": "695a3aec",
   "metadata": {},
   "source": [
    "During the EDA part we will draw various plots, extract descriptive statistics, and analyze preliminary relationships across the different Columns of the Data Set.\n",
    "\n",
    "We will start with basic descriptive statistics."
   ]
  },
  {
   "cell_type": "code",
   "execution_count": 17,
   "id": "e0d81c4b",
   "metadata": {},
   "outputs": [
    {
     "data": {
      "text/html": [
       "<div>\n",
       "<style scoped>\n",
       "    .dataframe tbody tr th:only-of-type {\n",
       "        vertical-align: middle;\n",
       "    }\n",
       "\n",
       "    .dataframe tbody tr th {\n",
       "        vertical-align: top;\n",
       "    }\n",
       "\n",
       "    .dataframe thead th {\n",
       "        text-align: right;\n",
       "    }\n",
       "</style>\n",
       "<table border=\"1\" class=\"dataframe\">\n",
       "  <thead>\n",
       "    <tr style=\"text-align: right;\">\n",
       "      <th></th>\n",
       "      <th>age</th>\n",
       "      <th>hypertension</th>\n",
       "      <th>heart_disease</th>\n",
       "      <th>bmi</th>\n",
       "      <th>HbA1c_level</th>\n",
       "      <th>blood_glucose_level</th>\n",
       "      <th>diabetes</th>\n",
       "    </tr>\n",
       "  </thead>\n",
       "  <tbody>\n",
       "    <tr>\n",
       "      <th>count</th>\n",
       "      <td>100000.000000</td>\n",
       "      <td>100000.00000</td>\n",
       "      <td>100000.000000</td>\n",
       "      <td>100000.000000</td>\n",
       "      <td>100000.000000</td>\n",
       "      <td>100000.000000</td>\n",
       "      <td>100000.000000</td>\n",
       "    </tr>\n",
       "    <tr>\n",
       "      <th>mean</th>\n",
       "      <td>41.875660</td>\n",
       "      <td>0.07485</td>\n",
       "      <td>0.039420</td>\n",
       "      <td>27.320767</td>\n",
       "      <td>5.527507</td>\n",
       "      <td>138.058060</td>\n",
       "      <td>0.085000</td>\n",
       "    </tr>\n",
       "    <tr>\n",
       "      <th>std</th>\n",
       "      <td>22.535417</td>\n",
       "      <td>0.26315</td>\n",
       "      <td>0.194593</td>\n",
       "      <td>6.636783</td>\n",
       "      <td>1.070672</td>\n",
       "      <td>40.708136</td>\n",
       "      <td>0.278883</td>\n",
       "    </tr>\n",
       "    <tr>\n",
       "      <th>min</th>\n",
       "      <td>0.000000</td>\n",
       "      <td>0.00000</td>\n",
       "      <td>0.000000</td>\n",
       "      <td>10.010000</td>\n",
       "      <td>3.500000</td>\n",
       "      <td>80.000000</td>\n",
       "      <td>0.000000</td>\n",
       "    </tr>\n",
       "    <tr>\n",
       "      <th>25%</th>\n",
       "      <td>24.000000</td>\n",
       "      <td>0.00000</td>\n",
       "      <td>0.000000</td>\n",
       "      <td>23.630000</td>\n",
       "      <td>4.800000</td>\n",
       "      <td>100.000000</td>\n",
       "      <td>0.000000</td>\n",
       "    </tr>\n",
       "    <tr>\n",
       "      <th>50%</th>\n",
       "      <td>43.000000</td>\n",
       "      <td>0.00000</td>\n",
       "      <td>0.000000</td>\n",
       "      <td>27.320000</td>\n",
       "      <td>5.800000</td>\n",
       "      <td>140.000000</td>\n",
       "      <td>0.000000</td>\n",
       "    </tr>\n",
       "    <tr>\n",
       "      <th>75%</th>\n",
       "      <td>60.000000</td>\n",
       "      <td>0.00000</td>\n",
       "      <td>0.000000</td>\n",
       "      <td>29.580000</td>\n",
       "      <td>6.200000</td>\n",
       "      <td>159.000000</td>\n",
       "      <td>0.000000</td>\n",
       "    </tr>\n",
       "    <tr>\n",
       "      <th>max</th>\n",
       "      <td>80.000000</td>\n",
       "      <td>1.00000</td>\n",
       "      <td>1.000000</td>\n",
       "      <td>95.690000</td>\n",
       "      <td>9.000000</td>\n",
       "      <td>300.000000</td>\n",
       "      <td>1.000000</td>\n",
       "    </tr>\n",
       "  </tbody>\n",
       "</table>\n",
       "</div>"
      ],
      "text/plain": [
       "                 age  hypertension  heart_disease            bmi  \\\n",
       "count  100000.000000  100000.00000  100000.000000  100000.000000   \n",
       "mean       41.875660       0.07485       0.039420      27.320767   \n",
       "std        22.535417       0.26315       0.194593       6.636783   \n",
       "min         0.000000       0.00000       0.000000      10.010000   \n",
       "25%        24.000000       0.00000       0.000000      23.630000   \n",
       "50%        43.000000       0.00000       0.000000      27.320000   \n",
       "75%        60.000000       0.00000       0.000000      29.580000   \n",
       "max        80.000000       1.00000       1.000000      95.690000   \n",
       "\n",
       "         HbA1c_level  blood_glucose_level       diabetes  \n",
       "count  100000.000000        100000.000000  100000.000000  \n",
       "mean        5.527507           138.058060       0.085000  \n",
       "std         1.070672            40.708136       0.278883  \n",
       "min         3.500000            80.000000       0.000000  \n",
       "25%         4.800000           100.000000       0.000000  \n",
       "50%         5.800000           140.000000       0.000000  \n",
       "75%         6.200000           159.000000       0.000000  \n",
       "max         9.000000           300.000000       1.000000  "
      ]
     },
     "execution_count": 17,
     "metadata": {},
     "output_type": "execute_result"
    }
   ],
   "source": [
    "df.describe()"
   ]
  },
  {
   "cell_type": "code",
   "execution_count": 19,
   "id": "d74616bc",
   "metadata": {},
   "outputs": [
    {
     "data": {
      "image/png": "[encoded data removed]",
      "text/plain": [
       "<Figure size 600.25x500 with 1 Axes>"
      ]
     },
     "metadata": {},
     "output_type": "display_data"
    }
   ],
   "source": [
    "sns.catplot(data = df, x = 'diabetes', y = 'blood_glucose_level', kind = 'box', hue = 'gender')\n",
    "plt.show()"
   ]
  },
  {
   "cell_type": "code",
   "execution_count": null,
   "id": "3eb4203b",
   "metadata": {},
   "outputs": [],
   "source": []
  },
  {
   "cell_type": "markdown",
   "id": "25c22a88",
   "metadata": {},
   "source": [
    "Box Plot for Diabetes Vs Blood Glucose Level seems same for all the genders, Other Gender looks different in first glance but it can be due to the reason that only 18 entries were availaible for them in the dataset."
   ]
  },
  {
   "cell_type": "code",
   "execution_count": 20,
   "id": "9c64711f",
   "metadata": {},
   "outputs": [
    {
     "data": {
      "image/png": "[encoded data removed]",
      "text/plain": [
       "<Figure size 600.25x500 with 1 Axes>"
      ]
     },
     "metadata": {},
     "output_type": "display_data"
    }
   ],
   "source": [
    "sns.catplot(data = df, x = 'diabetes', y = 'age', kind = 'box', hue = 'gender')\n",
    "plt.show()"
   ]
  },
  {
   "cell_type": "markdown",
   "id": "c1162c04",
   "metadata": {},
   "source": [
    "From the above boxplot for Diabetes vs Age we can see that most of the patients with Diabetes have high Median Age and generally higher age with a few outliers where people under 20 also have diabetes."
   ]
  },
  {
   "cell_type": "code",
   "execution_count": 73,
   "id": "f11066d7",
   "metadata": {},
   "outputs": [
    {
     "data": {
      "image/png": "[encoded data removed]",
      "text/plain": [
       "<Figure size 600.25x500 with 1 Axes>"
      ]
     },
     "metadata": {},
     "output_type": "display_data"
    }
   ],
   "source": [
    "sns.catplot(data = df, x = 'hypertension', y = 'age', kind = 'box', hue = 'gender')\n",
    "plt.show()"
   ]
  },
  {
   "attachments": {},
   "cell_type": "markdown",
   "id": "6f027f3f",
   "metadata": {},
   "source": [
    "Hypertension Vs Age boxplot based on the Gender appear similar to the Diabetes Vs Age, which was expected because generally most patients for Diabetes have high Median age and around age the likelihood of the Hypertension also increase naturally. Age can be called as a confounding factor here."
   ]
  },
  {
   "cell_type": "code",
   "execution_count": 67,
   "id": "605bacc1",
   "metadata": {},
   "outputs": [
    {
     "data": {
      "image/png": "[encoded data removed]",
      "text/plain": [
       "<Figure size 600.25x500 with 1 Axes>"
      ]
     },
     "metadata": {},
     "output_type": "display_data"
    }
   ],
   "source": [
    "sns.relplot(data = df, x = 'HbA1c_level', y =  'blood_glucose_level', kind = 'line', hue = 'gender', ci = None, markers = True)\n",
    "plt.show()"
   ]
  },
  {
   "cell_type": "markdown",
   "id": "8558031a",
   "metadata": {},
   "source": [
    "HbA1c Level and Blood Glucose Level for both Male and Female gender appears same. \n",
    "While other gender may look like that it has different shape it may be due to the fact that only 18 observations of such types were recorded."
   ]
  },
  {
   "cell_type": "code",
   "execution_count": 72,
   "id": "f70ae64f",
   "metadata": {},
   "outputs": [
    {
     "data": {
      "image/png": "[encoded data removed]",
      "text/plain": [
       "<Figure size 600.25x500 with 1 Axes>"
      ]
     },
     "metadata": {},
     "output_type": "display_data"
    }
   ],
   "source": [
    "sns.relplot(data = df, x = 'blood_glucose_level', y =  'bmi', kind = 'line', hue = 'gender', ci = None)\n",
    "plt.show()"
   ]
  },
  {
   "attachments": {},
   "cell_type": "markdown",
   "id": "5623fe8d",
   "metadata": {},
   "source": [
    "BMI for Female appears to be more than Male for each level of blood_glucose_level.\n",
    "\n",
    "Again we got abnormal result for Others. This may be due to the fact that only 18 observations were recorded representing them."
   ]
  },
  {
   "cell_type": "code",
   "execution_count": 74,
   "id": "0bd23af7",
   "metadata": {},
   "outputs": [
    {
     "data": {
      "text/html": [
       "<div>\n",
       "<style scoped>\n",
       "    .dataframe tbody tr th:only-of-type {\n",
       "        vertical-align: middle;\n",
       "    }\n",
       "\n",
       "    .dataframe tbody tr th {\n",
       "        vertical-align: top;\n",
       "    }\n",
       "\n",
       "    .dataframe thead th {\n",
       "        text-align: right;\n",
       "    }\n",
       "</style>\n",
       "<table border=\"1\" class=\"dataframe\">\n",
       "  <thead>\n",
       "    <tr style=\"text-align: right;\">\n",
       "      <th></th>\n",
       "      <th>age</th>\n",
       "      <th>hypertension</th>\n",
       "      <th>heart_disease</th>\n",
       "      <th>bmi</th>\n",
       "      <th>HbA1c_level</th>\n",
       "      <th>blood_glucose_level</th>\n",
       "      <th>diabetes</th>\n",
       "    </tr>\n",
       "  </thead>\n",
       "  <tbody>\n",
       "    <tr>\n",
       "      <th>age</th>\n",
       "      <td>1.000000</td>\n",
       "      <td>0.251093</td>\n",
       "      <td>0.233254</td>\n",
       "      <td>0.337747</td>\n",
       "      <td>0.101328</td>\n",
       "      <td>0.110631</td>\n",
       "      <td>0.257933</td>\n",
       "    </tr>\n",
       "    <tr>\n",
       "      <th>hypertension</th>\n",
       "      <td>0.251093</td>\n",
       "      <td>1.000000</td>\n",
       "      <td>0.121262</td>\n",
       "      <td>0.147666</td>\n",
       "      <td>0.080939</td>\n",
       "      <td>0.084429</td>\n",
       "      <td>0.197823</td>\n",
       "    </tr>\n",
       "    <tr>\n",
       "      <th>heart_disease</th>\n",
       "      <td>0.233254</td>\n",
       "      <td>0.121262</td>\n",
       "      <td>1.000000</td>\n",
       "      <td>0.061198</td>\n",
       "      <td>0.067589</td>\n",
       "      <td>0.070066</td>\n",
       "      <td>0.171727</td>\n",
       "    </tr>\n",
       "    <tr>\n",
       "      <th>bmi</th>\n",
       "      <td>0.337747</td>\n",
       "      <td>0.147666</td>\n",
       "      <td>0.061198</td>\n",
       "      <td>1.000000</td>\n",
       "      <td>0.082997</td>\n",
       "      <td>0.091261</td>\n",
       "      <td>0.214357</td>\n",
       "    </tr>\n",
       "    <tr>\n",
       "      <th>HbA1c_level</th>\n",
       "      <td>0.101328</td>\n",
       "      <td>0.080939</td>\n",
       "      <td>0.067589</td>\n",
       "      <td>0.082997</td>\n",
       "      <td>1.000000</td>\n",
       "      <td>0.166733</td>\n",
       "      <td>0.400660</td>\n",
       "    </tr>\n",
       "    <tr>\n",
       "      <th>blood_glucose_level</th>\n",
       "      <td>0.110631</td>\n",
       "      <td>0.084429</td>\n",
       "      <td>0.070066</td>\n",
       "      <td>0.091261</td>\n",
       "      <td>0.166733</td>\n",
       "      <td>1.000000</td>\n",
       "      <td>0.419558</td>\n",
       "    </tr>\n",
       "    <tr>\n",
       "      <th>diabetes</th>\n",
       "      <td>0.257933</td>\n",
       "      <td>0.197823</td>\n",
       "      <td>0.171727</td>\n",
       "      <td>0.214357</td>\n",
       "      <td>0.400660</td>\n",
       "      <td>0.419558</td>\n",
       "      <td>1.000000</td>\n",
       "    </tr>\n",
       "  </tbody>\n",
       "</table>\n",
       "</div>"
      ],
      "text/plain": [
       "                          age  hypertension  heart_disease       bmi  \\\n",
       "age                  1.000000      0.251093       0.233254  0.337747   \n",
       "hypertension         0.251093      1.000000       0.121262  0.147666   \n",
       "heart_disease        0.233254      0.121262       1.000000  0.061198   \n",
       "bmi                  0.337747      0.147666       0.061198  1.000000   \n",
       "HbA1c_level          0.101328      0.080939       0.067589  0.082997   \n",
       "blood_glucose_level  0.110631      0.084429       0.070066  0.091261   \n",
       "diabetes             0.257933      0.197823       0.171727  0.214357   \n",
       "\n",
       "                     HbA1c_level  blood_glucose_level  diabetes  \n",
       "age                     0.101328             0.110631  0.257933  \n",
       "hypertension            0.080939             0.084429  0.197823  \n",
       "heart_disease           0.067589             0.070066  0.171727  \n",
       "bmi                     0.082997             0.091261  0.214357  \n",
       "HbA1c_level             1.000000             0.166733  0.400660  \n",
       "blood_glucose_level     0.166733             1.000000  0.419558  \n",
       "diabetes                0.400660             0.419558  1.000000  "
      ]
     },
     "execution_count": 74,
     "metadata": {},
     "output_type": "execute_result"
    }
   ],
   "source": [
    "df.corr()"
   ]
  },
  {
   "cell_type": "code",
   "execution_count": 78,
   "id": "678d616e",
   "metadata": {},
   "outputs": [
    {
     "data": {
      "image/png": "[encoded data removed]",
      "text/plain": [
       "<Figure size 640x480 with 2 Axes>"
      ]
     },
     "metadata": {},
     "output_type": "display_data"
    }
   ],
   "source": [
    "sns.heatmap(df.corr(), annot = True, cmap = 'coolwarm')\n",
    "plt.show()"
   ]
  },
  {
   "attachments": {},
   "cell_type": "markdown",
   "id": "c70b6d81",
   "metadata": {},
   "source": [
    "Finally from the Heatmap we can see that there does not exist an evidence for collinearity prima facie.\n",
    "\n",
    "While there can be multicollinearity, we would need the help of subject matter expert to find it as there is no high correlation, that is > 0.7, in our given data set with which we can find collinearity."
   ]
  },
  {
   "cell_type": "markdown",
   "id": "1e4cdde9",
   "metadata": {},
   "source": [
    "Overall there are no correlations across the predictors and we can use the data for various models"
   ]
  },
  {
   "cell_type": "markdown",
   "id": "0758b88c",
   "metadata": {},
   "source": [
    "## Models : Supervised Learning"
   ]
  },
  {
   "cell_type": "code",
   "execution_count": null,
   "id": "a2dda3c3",
   "metadata": {},
   "outputs": [],
   "source": []
  },
  {
   "cell_type": "code",
   "execution_count": null,
   "id": "a66c9f41",
   "metadata": {},
   "outputs": [],
   "source": []
  },
  {
   "cell_type": "code",
   "execution_count": 166,
   "id": "93738c8b",
   "metadata": {},
   "outputs": [],
   "source": []
  },
  {
   "cell_type": "code",
   "execution_count": 167,
   "id": "a3a93c39",
   "metadata": {},
   "outputs": [],
   "source": [
    "design_matrix = df.iloc[:,:-1]\n",
    "design_matrix = pd.get_dummies(design_matrix, columns= ['gender'], drop_first=True)\n",
    "response_y = df.iloc[:,-1]\n",
    "train_x, test_x, train_y, test_y = train_test_split(design_matrix, response_y, test_size = 0.2, random_state = 110)"
   ]
  },
  {
   "cell_type": "code",
   "execution_count": 168,
   "id": "9b73027b",
   "metadata": {},
   "outputs": [
    {
     "name": "stdout",
     "output_type": "stream",
     "text": [
      "(80000, 8)\n",
      "(20000, 8)\n",
      "(80000,)\n",
      "(20000,)\n"
     ]
    }
   ],
   "source": [
    "print(train_x.shape)\n",
    "print(test_x.shape)\n",
    "print(train_y.shape)\n",
    "print(test_y.shape)"
   ]
  },
  {
   "cell_type": "code",
   "execution_count": 25,
   "id": "4fd3e415",
   "metadata": {},
   "outputs": [
    {
     "data": {
      "text/html": [
       "<div>\n",
       "<style scoped>\n",
       "    .dataframe tbody tr th:only-of-type {\n",
       "        vertical-align: middle;\n",
       "    }\n",
       "\n",
       "    .dataframe tbody tr th {\n",
       "        vertical-align: top;\n",
       "    }\n",
       "\n",
       "    .dataframe thead th {\n",
       "        text-align: right;\n",
       "    }\n",
       "</style>\n",
       "<table border=\"1\" class=\"dataframe\">\n",
       "  <thead>\n",
       "    <tr style=\"text-align: right;\">\n",
       "      <th></th>\n",
       "      <th>age</th>\n",
       "      <th>hypertension</th>\n",
       "      <th>heart_disease</th>\n",
       "      <th>bmi</th>\n",
       "      <th>HbA1c_level</th>\n",
       "      <th>blood_glucose_level</th>\n",
       "      <th>gender_Male</th>\n",
       "      <th>gender_Other</th>\n",
       "    </tr>\n",
       "  </thead>\n",
       "  <tbody>\n",
       "    <tr>\n",
       "      <th>0</th>\n",
       "      <td>80</td>\n",
       "      <td>0</td>\n",
       "      <td>1</td>\n",
       "      <td>25.19</td>\n",
       "      <td>6.6</td>\n",
       "      <td>140.0</td>\n",
       "      <td>0</td>\n",
       "      <td>0</td>\n",
       "    </tr>\n",
       "    <tr>\n",
       "      <th>1</th>\n",
       "      <td>54</td>\n",
       "      <td>0</td>\n",
       "      <td>0</td>\n",
       "      <td>27.32</td>\n",
       "      <td>6.6</td>\n",
       "      <td>80.0</td>\n",
       "      <td>0</td>\n",
       "      <td>0</td>\n",
       "    </tr>\n",
       "    <tr>\n",
       "      <th>2</th>\n",
       "      <td>28</td>\n",
       "      <td>0</td>\n",
       "      <td>0</td>\n",
       "      <td>27.32</td>\n",
       "      <td>5.7</td>\n",
       "      <td>158.0</td>\n",
       "      <td>1</td>\n",
       "      <td>0</td>\n",
       "    </tr>\n",
       "    <tr>\n",
       "      <th>3</th>\n",
       "      <td>36</td>\n",
       "      <td>0</td>\n",
       "      <td>0</td>\n",
       "      <td>23.45</td>\n",
       "      <td>5.0</td>\n",
       "      <td>155.0</td>\n",
       "      <td>0</td>\n",
       "      <td>0</td>\n",
       "    </tr>\n",
       "    <tr>\n",
       "      <th>4</th>\n",
       "      <td>76</td>\n",
       "      <td>1</td>\n",
       "      <td>1</td>\n",
       "      <td>20.14</td>\n",
       "      <td>4.8</td>\n",
       "      <td>155.0</td>\n",
       "      <td>1</td>\n",
       "      <td>0</td>\n",
       "    </tr>\n",
       "    <tr>\n",
       "      <th>...</th>\n",
       "      <td>...</td>\n",
       "      <td>...</td>\n",
       "      <td>...</td>\n",
       "      <td>...</td>\n",
       "      <td>...</td>\n",
       "      <td>...</td>\n",
       "      <td>...</td>\n",
       "      <td>...</td>\n",
       "    </tr>\n",
       "    <tr>\n",
       "      <th>99995</th>\n",
       "      <td>80</td>\n",
       "      <td>0</td>\n",
       "      <td>0</td>\n",
       "      <td>27.32</td>\n",
       "      <td>6.2</td>\n",
       "      <td>90.0</td>\n",
       "      <td>0</td>\n",
       "      <td>0</td>\n",
       "    </tr>\n",
       "    <tr>\n",
       "      <th>99996</th>\n",
       "      <td>2</td>\n",
       "      <td>0</td>\n",
       "      <td>0</td>\n",
       "      <td>17.37</td>\n",
       "      <td>6.5</td>\n",
       "      <td>100.0</td>\n",
       "      <td>0</td>\n",
       "      <td>0</td>\n",
       "    </tr>\n",
       "    <tr>\n",
       "      <th>99997</th>\n",
       "      <td>66</td>\n",
       "      <td>0</td>\n",
       "      <td>0</td>\n",
       "      <td>27.83</td>\n",
       "      <td>5.7</td>\n",
       "      <td>155.0</td>\n",
       "      <td>1</td>\n",
       "      <td>0</td>\n",
       "    </tr>\n",
       "    <tr>\n",
       "      <th>99998</th>\n",
       "      <td>24</td>\n",
       "      <td>0</td>\n",
       "      <td>0</td>\n",
       "      <td>35.42</td>\n",
       "      <td>4.0</td>\n",
       "      <td>100.0</td>\n",
       "      <td>0</td>\n",
       "      <td>0</td>\n",
       "    </tr>\n",
       "    <tr>\n",
       "      <th>99999</th>\n",
       "      <td>57</td>\n",
       "      <td>0</td>\n",
       "      <td>0</td>\n",
       "      <td>22.43</td>\n",
       "      <td>6.6</td>\n",
       "      <td>90.0</td>\n",
       "      <td>0</td>\n",
       "      <td>0</td>\n",
       "    </tr>\n",
       "  </tbody>\n",
       "</table>\n",
       "<p>100000 rows × 8 columns</p>\n",
       "</div>"
      ],
      "text/plain": [
       "       age  hypertension  heart_disease    bmi  HbA1c_level  \\\n",
       "0       80             0              1  25.19          6.6   \n",
       "1       54             0              0  27.32          6.6   \n",
       "2       28             0              0  27.32          5.7   \n",
       "3       36             0              0  23.45          5.0   \n",
       "4       76             1              1  20.14          4.8   \n",
       "...    ...           ...            ...    ...          ...   \n",
       "99995   80             0              0  27.32          6.2   \n",
       "99996    2             0              0  17.37          6.5   \n",
       "99997   66             0              0  27.83          5.7   \n",
       "99998   24             0              0  35.42          4.0   \n",
       "99999   57             0              0  22.43          6.6   \n",
       "\n",
       "       blood_glucose_level  gender_Male  gender_Other  \n",
       "0                    140.0            0             0  \n",
       "1                     80.0            0             0  \n",
       "2                    158.0            1             0  \n",
       "3                    155.0            0             0  \n",
       "4                    155.0            1             0  \n",
       "...                    ...          ...           ...  \n",
       "99995                 90.0            0             0  \n",
       "99996                100.0            0             0  \n",
       "99997                155.0            1             0  \n",
       "99998                100.0            0             0  \n",
       "99999                 90.0            0             0  \n",
       "\n",
       "[100000 rows x 8 columns]"
      ]
     },
     "execution_count": 25,
     "metadata": {},
     "output_type": "execute_result"
    }
   ],
   "source": [
    "design_matrix"
   ]
  },
  {
   "cell_type": "code",
   "execution_count": 169,
   "id": "72dc6346",
   "metadata": {},
   "outputs": [
    {
     "data": {
      "text/plain": [
       "0        0\n",
       "1        0\n",
       "2        0\n",
       "3        0\n",
       "4        0\n",
       "        ..\n",
       "99995    0\n",
       "99996    0\n",
       "99997    0\n",
       "99998    0\n",
       "99999    0\n",
       "Name: diabetes, Length: 100000, dtype: int64"
      ]
     },
     "execution_count": 169,
     "metadata": {},
     "output_type": "execute_result"
    }
   ],
   "source": [
    "response_y"
   ]
  },
  {
   "cell_type": "code",
   "execution_count": 170,
   "id": "0f650966",
   "metadata": {},
   "outputs": [
    {
     "data": {
      "text/html": [
       "<div>\n",
       "<style scoped>\n",
       "    .dataframe tbody tr th:only-of-type {\n",
       "        vertical-align: middle;\n",
       "    }\n",
       "\n",
       "    .dataframe tbody tr th {\n",
       "        vertical-align: top;\n",
       "    }\n",
       "\n",
       "    .dataframe thead th {\n",
       "        text-align: right;\n",
       "    }\n",
       "</style>\n",
       "<table border=\"1\" class=\"dataframe\">\n",
       "  <thead>\n",
       "    <tr style=\"text-align: right;\">\n",
       "      <th></th>\n",
       "      <th>age</th>\n",
       "      <th>hypertension</th>\n",
       "      <th>heart_disease</th>\n",
       "      <th>bmi</th>\n",
       "      <th>HbA1c_level</th>\n",
       "      <th>blood_glucose_level</th>\n",
       "      <th>gender_Male</th>\n",
       "      <th>gender_Other</th>\n",
       "    </tr>\n",
       "  </thead>\n",
       "  <tbody>\n",
       "    <tr>\n",
       "      <th>92937</th>\n",
       "      <td>0</td>\n",
       "      <td>0</td>\n",
       "      <td>0</td>\n",
       "      <td>18.14</td>\n",
       "      <td>5.0</td>\n",
       "      <td>85.0</td>\n",
       "      <td>1</td>\n",
       "      <td>0</td>\n",
       "    </tr>\n",
       "    <tr>\n",
       "      <th>76194</th>\n",
       "      <td>66</td>\n",
       "      <td>0</td>\n",
       "      <td>0</td>\n",
       "      <td>27.32</td>\n",
       "      <td>4.0</td>\n",
       "      <td>155.0</td>\n",
       "      <td>0</td>\n",
       "      <td>0</td>\n",
       "    </tr>\n",
       "    <tr>\n",
       "      <th>93411</th>\n",
       "      <td>27</td>\n",
       "      <td>0</td>\n",
       "      <td>0</td>\n",
       "      <td>34.50</td>\n",
       "      <td>6.1</td>\n",
       "      <td>130.0</td>\n",
       "      <td>1</td>\n",
       "      <td>0</td>\n",
       "    </tr>\n",
       "    <tr>\n",
       "      <th>57862</th>\n",
       "      <td>1</td>\n",
       "      <td>0</td>\n",
       "      <td>0</td>\n",
       "      <td>10.62</td>\n",
       "      <td>3.5</td>\n",
       "      <td>200.0</td>\n",
       "      <td>1</td>\n",
       "      <td>0</td>\n",
       "    </tr>\n",
       "    <tr>\n",
       "      <th>12047</th>\n",
       "      <td>51</td>\n",
       "      <td>0</td>\n",
       "      <td>0</td>\n",
       "      <td>41.53</td>\n",
       "      <td>6.0</td>\n",
       "      <td>158.0</td>\n",
       "      <td>1</td>\n",
       "      <td>0</td>\n",
       "    </tr>\n",
       "  </tbody>\n",
       "</table>\n",
       "</div>"
      ],
      "text/plain": [
       "       age  hypertension  heart_disease    bmi  HbA1c_level  \\\n",
       "92937    0             0              0  18.14          5.0   \n",
       "76194   66             0              0  27.32          4.0   \n",
       "93411   27             0              0  34.50          6.1   \n",
       "57862    1             0              0  10.62          3.5   \n",
       "12047   51             0              0  41.53          6.0   \n",
       "\n",
       "       blood_glucose_level  gender_Male  gender_Other  \n",
       "92937                 85.0            1             0  \n",
       "76194                155.0            0             0  \n",
       "93411                130.0            1             0  \n",
       "57862                200.0            1             0  \n",
       "12047                158.0            1             0  "
      ]
     },
     "execution_count": 170,
     "metadata": {},
     "output_type": "execute_result"
    }
   ],
   "source": [
    "train_x.head()"
   ]
  },
  {
   "cell_type": "code",
   "execution_count": 171,
   "id": "424a8694",
   "metadata": {},
   "outputs": [
    {
     "data": {
      "text/plain": [
       "92937    0\n",
       "76194    0\n",
       "93411    0\n",
       "57862    0\n",
       "12047    0\n",
       "        ..\n",
       "39293    0\n",
       "42255    0\n",
       "34877    0\n",
       "75491    0\n",
       "2176     1\n",
       "Name: diabetes, Length: 80000, dtype: int64"
      ]
     },
     "execution_count": 171,
     "metadata": {},
     "output_type": "execute_result"
    }
   ],
   "source": [
    "train_y"
   ]
  },
  {
   "cell_type": "code",
   "execution_count": 12,
   "id": "d6c9c6ea",
   "metadata": {},
   "outputs": [],
   "source": []
  },
  {
   "cell_type": "code",
   "execution_count": 203,
   "id": "68c4317a",
   "metadata": {},
   "outputs": [],
   "source": [
    "scores = dict()\n",
    "time_models = dict()\n",
    "f1 = dict()"
   ]
  },
  {
   "cell_type": "code",
   "execution_count": 173,
   "id": "edf7a99f",
   "metadata": {},
   "outputs": [],
   "source": [
    "from sklearn.model_selection import train_test_split\n",
    "from sklearn.linear_model import LogisticRegression\n",
    "import time\n",
    "from sklearn.metrics import f1_score\n",
    "from sklearn.ensemble import RandomForestClassifier as RF\n",
    "from sklearn.model_selection import GridSearchCV\n",
    "from sklearn.ensemble import AdaBoostClassifier\n",
    "from sklearn.svm import LinearSVC\n",
    "from sklearn.metrics import confusion_matrix"
   ]
  },
  {
   "cell_type": "markdown",
   "id": "c55e8611",
   "metadata": {},
   "source": [
    "### Logistic Regression"
   ]
  },
  {
   "cell_type": "code",
   "execution_count": 204,
   "id": "dec75c90",
   "metadata": {},
   "outputs": [
    {
     "name": "stdout",
     "output_type": "stream",
     "text": [
      "Model Runnign Time 0.6322290897369385\n",
      "0.9607\n"
     ]
    }
   ],
   "source": [
    "#Logistic Regression is based on 8 Predictors only and since there was no correlation across the predictors there will be \n",
    "#no need of Feature selection for the Logistic Regression\n",
    "\n",
    "t0 = time.time()\n",
    "lr_model = LogisticRegression(solver='liblinear', random_state = 110).fit(train_x, train_y)\n",
    "t1 = time.time()\n",
    "print('Model Runnign Time',t1-t0)\n",
    "\n",
    "lr_score = lr_model.score(test_x, test_y)\n",
    "scores['Logistic Regression'] = lr_score\n",
    "print(lr_score)\n",
    "time_models['Logistic Regression'] = t1-t0\n",
    "f1['Logistic Regression'] = f1_score(test_y, lr_model.predict(test_x))"
   ]
  },
  {
   "cell_type": "markdown",
   "id": "d35499c3",
   "metadata": {},
   "source": [
    "### Random Forest"
   ]
  },
  {
   "cell_type": "code",
   "execution_count": 176,
   "id": "b9ce7a84",
   "metadata": {
    "scrolled": true
   },
   "outputs": [],
   "source": [
    "#Note: Grid Search will take too much time. I was able to wait but since the model below is made of the best parameters from\n",
    "#Grid Search you can try and adjust the model to test if they are true best parameter\n",
    "\n",
    "# paras_rf = {'n_estimators':[10,20,30,40,50,100], 'min_samples_leaf' : [2,3,5,8,10], 'max_features': ['sqrt', 'log2'], 'max_depth':[5,10,15,20,30]}\n",
    "# grid = GridSearchCV(RF(), paras_rf).fit(train_x, train_y)"
   ]
  },
  {
   "cell_type": "code",
   "execution_count": 205,
   "id": "b9d904d7",
   "metadata": {},
   "outputs": [
    {
     "name": "stdout",
     "output_type": "stream",
     "text": [
      "Model Runnign Time 1.3437528610229492\n",
      "Score 0.97185\n"
     ]
    }
   ],
   "source": [
    "t0 = time.time()\n",
    "rf_model = RF(n_estimators = 30, min_samples_leaf = 8, max_features='sqrt', max_depth = 5,  random_state = 110).fit(train_x, train_y)\n",
    "t1 = time.time()\n",
    "\n",
    "print('Model Runnign Time',t1-t0)\n",
    "print('Score', rf_model.score(test_x, test_y))\n",
    "time_models['Random Forest'] = t1-t0\n",
    "scores['Random Forest'] = rf_model.score(test_x, test_y)\n",
    "f1['Random Forest'] = f1_score(test_y, rf_model.predict(test_x))"
   ]
  },
  {
   "cell_type": "markdown",
   "id": "1960a3f3",
   "metadata": {},
   "source": [
    "## Adaboost"
   ]
  },
  {
   "cell_type": "code",
   "execution_count": 41,
   "id": "f2c95edc",
   "metadata": {},
   "outputs": [],
   "source": [
    "#Grid Search is very time consuming and may take a lot of time. Please proceed with caution if you want to test it\n",
    "#Moreover n_estimators = 100 and learning_rate = 0.5 was the best parameters. To get them it took me 1 hour and when I\n",
    "#tried increased range of learning rates it was too time consuming that's why n_estimators have been taken as 100 below to\n",
    "#skip at least one parameter\n",
    "\n",
    "#paras_ada = {'learning_rate': [0.1,0.2,0.3,0.4,0.5,0.6,0.7,0.8,1,1.2,1.4,2,3]}\n",
    "#grid = GridSearchCV(AdaBoostClassifier(n_estimators = 100), paras_ada).fit(train_x#, train_y)\n",
    "#grid.best_params_"
   ]
  },
  {
   "cell_type": "code",
   "execution_count": 206,
   "id": "cfd81336",
   "metadata": {},
   "outputs": [
    {
     "name": "stdout",
     "output_type": "stream",
     "text": [
      "Model Runnign Time 6.602018117904663\n"
     ]
    }
   ],
   "source": [
    "t0 = time.time()\n",
    "ada_model = AdaBoostClassifier(n_estimators=100, learning_rate=0.5, random_state = 110).fit(train_x, train_y)\n",
    "t1 = time.time()\n",
    "print('Model Runnign Time',t1-t0)\n",
    "time_models['Ada Boost'] = t1-t0\n",
    "f1['Ada Boost'] = f1_score(test_y, ada_model.predict(test_x))"
   ]
  },
  {
   "cell_type": "code",
   "execution_count": 207,
   "id": "ef23db0c",
   "metadata": {},
   "outputs": [
    {
     "name": "stdout",
     "output_type": "stream",
     "text": [
      "Score 0.9724\n"
     ]
    }
   ],
   "source": [
    "print('Score',ada_model.score(test_x, test_y))\n",
    "scores['Ada Boost'] = ada_model.score(test_x, test_y)"
   ]
  },
  {
   "cell_type": "markdown",
   "id": "f55e3e7b",
   "metadata": {},
   "source": [
    "### Multinomial Naive Bayes"
   ]
  },
  {
   "cell_type": "code",
   "execution_count": 208,
   "id": "0fa9030d",
   "metadata": {},
   "outputs": [
    {
     "name": "stdout",
     "output_type": "stream",
     "text": [
      "Model Runnign Time 0.025429964065551758\n",
      "Score 0.905\n"
     ]
    }
   ],
   "source": [
    "from sklearn.naive_bayes import MultinomialNB\n",
    "t0 = time.time()\n",
    "naive_multimonial_model = MultinomialNB().fit(train_x, train_y)\n",
    "t1 = time.time()\n",
    "print('Model Runnign Time',t1-t0)\n",
    "time_models['Multinomial Naive Bayes'] = t1-t0\n",
    "print('Score',naive_multimonial_model.score(test_x, test_y))\n",
    "scores['Multinomial Naive Bayes'] = naive_multimonial_model.score(test_x, test_y)\n",
    "f1['Multinomial Naive Bayes'] = f1_score(test_y, naive_multimonial_model.predict(test_x))"
   ]
  },
  {
   "attachments": {},
   "cell_type": "markdown",
   "id": "79aa169b",
   "metadata": {},
   "source": [
    "### Gaussian Naive Bayes"
   ]
  },
  {
   "cell_type": "code",
   "execution_count": 209,
   "id": "7cd6e564",
   "metadata": {},
   "outputs": [
    {
     "name": "stdout",
     "output_type": "stream",
     "text": [
      "Model Runnign Time 0.030307531356811523\n",
      "Score 0.89155\n"
     ]
    }
   ],
   "source": [
    "from sklearn.naive_bayes import GaussianNB\n",
    "t0 = time.time()\n",
    "naive_guass_model = GaussianNB().fit(train_x, train_y)\n",
    "t1 = time.time()\n",
    "print('Model Runnign Time',t1-t0)\n",
    "time_models['Gaussian Naive Bayes'] = t1-t0\n",
    "print('Score',naive_guass_model.score(test_x, test_y))\n",
    "scores['Gaussian Naive Bayes'] = naive_guass_model.score(test_x, test_y)\n",
    "f1['Gaussian Naive Bayes'] = f1_score(test_y, naive_guass_model.predict(test_x))"
   ]
  },
  {
   "cell_type": "code",
   "execution_count": 49,
   "id": "c7bda121",
   "metadata": {},
   "outputs": [],
   "source": []
  },
  {
   "cell_type": "markdown",
   "id": "53869d90",
   "metadata": {},
   "source": [
    "## Linear Support Vector Machine"
   ]
  },
  {
   "cell_type": "code",
   "execution_count": 210,
   "id": "3e32883c",
   "metadata": {},
   "outputs": [
    {
     "name": "stdout",
     "output_type": "stream",
     "text": [
      "Model Runnign Time 0.47667932510375977\n",
      "Score 0.96125\n"
     ]
    }
   ],
   "source": [
    "#Note, any other option for the parameter for the linear SVC is not applicable as number of predictors are quite less\n",
    "#I was not even able to run SVC function because of this.\n",
    "t0 = time.time()\n",
    "svm_model = LinearSVC(dual=False, random_state = 110).fit(train_x, train_y)\n",
    "t1 = time.time()\n",
    "print('Model Runnign Time',t1-t0)\n",
    "time_models['Linear Support Vector Machine'] = t1-t0\n",
    "print('Score',svm_model.score(test_x, test_y))\n",
    "scores['Linear Support Vector Machine'] = svm_model.score(test_x, test_y)\n",
    "f1['Linear Support Vector Machine'] = f1_score(test_y, svm_model.predict(test_x))"
   ]
  },
  {
   "cell_type": "markdown",
   "id": "8e4659cb",
   "metadata": {},
   "source": [
    "## Model Result Comparison and Summary"
   ]
  },
  {
   "cell_type": "markdown",
   "id": "70f6ef56",
   "metadata": {},
   "source": [
    "Now we have created various models while optimizing their Hyperparameters for the Diabetes Prediction. We are now equipped to suggest the model which will be most useful to use the users like Health Care Professionals."
   ]
  },
  {
   "cell_type": "markdown",
   "id": "ccc6fe50",
   "metadata": {},
   "source": [
    "To analyse the result in a tabular form we will create a full DataFrame with Models, Scores(Accuracy), Time, and F1 Scores."
   ]
  },
  {
   "cell_type": "code",
   "execution_count": 190,
   "id": "201d4b2c",
   "metadata": {},
   "outputs": [
    {
     "data": {
      "text/plain": [
       "{'Logistic Regression': 0.9607,\n",
       " 'Ada Boost': 0.9724,\n",
       " 'Gaussian Naive Bayes': 0.89155,\n",
       " 'Multinomial Naive Bayes': 0.905,\n",
       " 'Linear Support Vector Machine': 0.96125,\n",
       " 'Random Forest': 0.97185}"
      ]
     },
     "execution_count": 190,
     "metadata": {},
     "output_type": "execute_result"
    }
   ],
   "source": [
    "scores"
   ]
  },
  {
   "cell_type": "code",
   "execution_count": 189,
   "id": "212ee11d",
   "metadata": {},
   "outputs": [
    {
     "data": {
      "text/plain": [
       "{'Logistic Regression': 0.4453287124633789,\n",
       " 'Ada Boost': 5.711139917373657,\n",
       " 'Gaussian Naive Bayes': 0.031018733978271484,\n",
       " 'Multinomial Naive Bayes': 0.02396368980407715,\n",
       " 'Linear Support Vector Machine': 0.30946803092956543,\n",
       " 'Random Forest': 0.6640145778656006}"
      ]
     },
     "execution_count": 189,
     "metadata": {},
     "output_type": "execute_result"
    }
   ],
   "source": [
    "time_models"
   ]
  },
  {
   "cell_type": "code",
   "execution_count": 191,
   "id": "93aeac6f",
   "metadata": {},
   "outputs": [
    {
     "data": {
      "text/plain": [
       "{'Logistic Regression': 0.7192857142857143,\n",
       " 'Ada Boost': 0.8032786885245903,\n",
       " 'Multinomial Naive Bayes': 0.3223965763195435,\n",
       " 'Gaussian Naive Bayes': 0.5382158824781775,\n",
       " 'Linear Support Vector Machine': 0.7186932849364791,\n",
       " 'Random Forest': 0.7969707897583843}"
      ]
     },
     "execution_count": 191,
     "metadata": {},
     "output_type": "execute_result"
    }
   ],
   "source": [
    "f1"
   ]
  },
  {
   "cell_type": "code",
   "execution_count": 211,
   "id": "05c95642",
   "metadata": {},
   "outputs": [],
   "source": [
    "result_df = pd.DataFrame({'Models': scores.keys(), 'Scores':scores.values(), 'Time':time_models.values(), 'F1':f1.values()})"
   ]
  },
  {
   "cell_type": "code",
   "execution_count": 212,
   "id": "4b0eb830",
   "metadata": {},
   "outputs": [
    {
     "data": {
      "text/html": [
       "<div>\n",
       "<style scoped>\n",
       "    .dataframe tbody tr th:only-of-type {\n",
       "        vertical-align: middle;\n",
       "    }\n",
       "\n",
       "    .dataframe tbody tr th {\n",
       "        vertical-align: top;\n",
       "    }\n",
       "\n",
       "    .dataframe thead th {\n",
       "        text-align: right;\n",
       "    }\n",
       "</style>\n",
       "<table border=\"1\" class=\"dataframe\">\n",
       "  <thead>\n",
       "    <tr style=\"text-align: right;\">\n",
       "      <th></th>\n",
       "      <th>Models</th>\n",
       "      <th>Scores</th>\n",
       "      <th>Time</th>\n",
       "      <th>F1</th>\n",
       "    </tr>\n",
       "  </thead>\n",
       "  <tbody>\n",
       "    <tr>\n",
       "      <th>0</th>\n",
       "      <td>Logistic Regression</td>\n",
       "      <td>0.96070</td>\n",
       "      <td>0.632229</td>\n",
       "      <td>0.719286</td>\n",
       "    </tr>\n",
       "    <tr>\n",
       "      <th>1</th>\n",
       "      <td>Random Forest</td>\n",
       "      <td>0.97185</td>\n",
       "      <td>1.343753</td>\n",
       "      <td>0.796971</td>\n",
       "    </tr>\n",
       "    <tr>\n",
       "      <th>2</th>\n",
       "      <td>Ada Boost</td>\n",
       "      <td>0.97240</td>\n",
       "      <td>6.602018</td>\n",
       "      <td>0.803279</td>\n",
       "    </tr>\n",
       "    <tr>\n",
       "      <th>3</th>\n",
       "      <td>Multinomial Naive Bayes</td>\n",
       "      <td>0.90500</td>\n",
       "      <td>0.025430</td>\n",
       "      <td>0.322397</td>\n",
       "    </tr>\n",
       "    <tr>\n",
       "      <th>4</th>\n",
       "      <td>Gaussian Naive Bayes</td>\n",
       "      <td>0.89155</td>\n",
       "      <td>0.030308</td>\n",
       "      <td>0.538216</td>\n",
       "    </tr>\n",
       "    <tr>\n",
       "      <th>5</th>\n",
       "      <td>Linear Support Vector Machine</td>\n",
       "      <td>0.96125</td>\n",
       "      <td>0.476679</td>\n",
       "      <td>0.718693</td>\n",
       "    </tr>\n",
       "  </tbody>\n",
       "</table>\n",
       "</div>"
      ],
      "text/plain": [
       "                          Models   Scores      Time        F1\n",
       "0            Logistic Regression  0.96070  0.632229  0.719286\n",
       "1                  Random Forest  0.97185  1.343753  0.796971\n",
       "2                      Ada Boost  0.97240  6.602018  0.803279\n",
       "3        Multinomial Naive Bayes  0.90500  0.025430  0.322397\n",
       "4           Gaussian Naive Bayes  0.89155  0.030308  0.538216\n",
       "5  Linear Support Vector Machine  0.96125  0.476679  0.718693"
      ]
     },
     "execution_count": 212,
     "metadata": {},
     "output_type": "execute_result"
    }
   ],
   "source": [
    "result_df"
   ]
  },
  {
   "cell_type": "code",
   "execution_count": 199,
   "id": "4f6eb93a",
   "metadata": {},
   "outputs": [
    {
     "data": {
      "text/html": [
       "<div>\n",
       "<style scoped>\n",
       "    .dataframe tbody tr th:only-of-type {\n",
       "        vertical-align: middle;\n",
       "    }\n",
       "\n",
       "    .dataframe tbody tr th {\n",
       "        vertical-align: top;\n",
       "    }\n",
       "\n",
       "    .dataframe thead th {\n",
       "        text-align: right;\n",
       "    }\n",
       "</style>\n",
       "<table border=\"1\" class=\"dataframe\">\n",
       "  <thead>\n",
       "    <tr style=\"text-align: right;\">\n",
       "      <th></th>\n",
       "      <th>Models</th>\n",
       "      <th>Scores</th>\n",
       "      <th>Time</th>\n",
       "      <th>F1</th>\n",
       "    </tr>\n",
       "  </thead>\n",
       "  <tbody>\n",
       "    <tr>\n",
       "      <th>1</th>\n",
       "      <td>Ada Boost</td>\n",
       "      <td>0.97240</td>\n",
       "      <td>5.711140</td>\n",
       "      <td>0.803279</td>\n",
       "    </tr>\n",
       "    <tr>\n",
       "      <th>5</th>\n",
       "      <td>Random Forest</td>\n",
       "      <td>0.97185</td>\n",
       "      <td>0.664015</td>\n",
       "      <td>0.796971</td>\n",
       "    </tr>\n",
       "    <tr>\n",
       "      <th>4</th>\n",
       "      <td>Linear Support Vector Machine</td>\n",
       "      <td>0.96125</td>\n",
       "      <td>0.309468</td>\n",
       "      <td>0.718693</td>\n",
       "    </tr>\n",
       "    <tr>\n",
       "      <th>0</th>\n",
       "      <td>Logistic Regression</td>\n",
       "      <td>0.96070</td>\n",
       "      <td>0.445329</td>\n",
       "      <td>0.719286</td>\n",
       "    </tr>\n",
       "    <tr>\n",
       "      <th>3</th>\n",
       "      <td>Multinomial Naive Bayes</td>\n",
       "      <td>0.90500</td>\n",
       "      <td>0.023964</td>\n",
       "      <td>0.538216</td>\n",
       "    </tr>\n",
       "    <tr>\n",
       "      <th>2</th>\n",
       "      <td>Gaussian Naive Bayes</td>\n",
       "      <td>0.89155</td>\n",
       "      <td>0.031019</td>\n",
       "      <td>0.322397</td>\n",
       "    </tr>\n",
       "  </tbody>\n",
       "</table>\n",
       "</div>"
      ],
      "text/plain": [
       "                          Models   Scores      Time        F1\n",
       "1                      Ada Boost  0.97240  5.711140  0.803279\n",
       "5                  Random Forest  0.97185  0.664015  0.796971\n",
       "4  Linear Support Vector Machine  0.96125  0.309468  0.718693\n",
       "0            Logistic Regression  0.96070  0.445329  0.719286\n",
       "3        Multinomial Naive Bayes  0.90500  0.023964  0.538216\n",
       "2           Gaussian Naive Bayes  0.89155  0.031019  0.322397"
      ]
     },
     "execution_count": 199,
     "metadata": {},
     "output_type": "execute_result"
    }
   ],
   "source": [
    "result_df.sort_values('Scores', ascending = False)"
   ]
  },
  {
   "cell_type": "code",
   "execution_count": 201,
   "id": "a009126e",
   "metadata": {},
   "outputs": [
    {
     "data": {
      "text/plain": [
       "array([[18321,    11],\n",
       "       [  541,  1127]], dtype=int64)"
      ]
     },
     "execution_count": 201,
     "metadata": {},
     "output_type": "execute_result"
    }
   ],
   "source": [
    "#Confusion Matrix for the Best Model, Adaboost\n",
    "\n",
    "confusion_matrix(test_y, ada_model.predict(test_x))"
   ]
  },
  {
   "cell_type": "markdown",
   "id": "8d5d0489",
   "metadata": {},
   "source": [
    "In the Result Data frame we have Scores, time taken, and F1 values.\n",
    "\n",
    "Scores measure the Accuracy for the Test Data Set.\n",
    "\n",
    "Time taken reders to the Time taken for 1 iteration of the model. More complex model takes more time.\n",
    "\n",
    "F1 Score is a representative of Precision and Recall. High F1 Score means higher of both of them and is considered optimum for a model.\n",
    "\n",
    "From the sorted result we can pick Adaboost Model which has highest accuracy of 0.97240 and highest F1 value at 0.803279. Howeve, while it appears as the best model we must also take into account the time taken for the Adaboost is the highest at 5.7 seconds, and this time is for only 1 iteration as if we use the grid search and other optimization Adaboost is taking most time here.\n",
    "\n",
    "Overall, our problem was predicting the Diabetes Patients and Adaboost model is the best Predictor with the accuracy of 0.97240 among all the 6 Tested Model. If we want utmost prediction we recommend Adaboost, however if slight amount of Accuracy can be sacrificed Random Forest appears to be a competent Model for our problem, it is taking only fraction of time as compared to Adaboost and has high accuracy rate of 0.97185 and high F1 score of 0.7969 which are only a few points below the result metrics of the best model, Adaboost."
   ]
  }
 ],
 "metadata": {
  "kernelspec": {
   "display_name": "Python 3 (ipykernel)",
   "language": "python",
   "name": "python3"
  },
  "language_info": {
   "codemirror_mode": {
    "name": "ipython",
    "version": 3
   },
   "file_extension": ".py",
   "mimetype": "text/x-python",
   "name": "python",
   "nbconvert_exporter": "python",
   "pygments_lexer": "ipython3",
   "version": "3.9.13"
  }
 },
 "nbformat": 4,
 "nbformat_minor": 5
}
